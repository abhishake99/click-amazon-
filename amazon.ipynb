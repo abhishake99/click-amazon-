from selenium import webdriver as wb
from webdriver_manager.chrome import ChromeDriverManager
from selenium.webdriver.common.keys import Keys
from selenium.webdriver.common.by import By
from selenium.webdriver.support.ui import WebDriverWait
from selenium.webdriver.support import expected_conditions as EC
from selenium.common.exceptions import StaleElementReferenceException
from bs4 import BeautifulSoup as bs
import requests as rq
import time

search=input("Enter your search please : ") ##enter query
driver=wb.Chrome(executable_path="/Users/abhishek/.wdm/drivers/chromedriver/win32/102.0.5005.61/chromedriver.exe")
driver.get("https://www.amazon.com/")
txt=driver.find_element_by_id("twotabsearchtextbox")
txt.send_keys(search)
btn=driver.find_element_by_id("nav-search-submit-button")
btn.submit()
text1=list(driver.find_element_by_xpath("//div[@class='s-no-outline']").text)
maxTimeOut=10
if(text1[-1]=="."):
    locatorProperties1="(//div[@class='a-section a-spacing-base'])"
    #clk=WebDriverWait(driver, maxTimeOut, ignored_exceptions=[StaleElementReferenceException]).until(EC.presence_of_all_elements_located((By.XPATH, locatorProperties1)))
    clk=driver.find_elements_by_xpath(locatorProperties1)
    i=0
    while(i<len(clk)):
        time.sleep(2)
        clk[i].click()
        print("clicked",i+1,"link")
        driver.back()
        time.sleep(2)
        #clk=WebDriverWait(driver, maxTimeOut, ignored_exceptions=[StaleElementReferenceException]).until(EC.presence_of_all_elements_located((By.XPATH, locatorProperties1)))
        clk=driver.find_elements_by_xpath(locatorProperties1)
        i+=1
else:        
    locatorProperties2="//div[@class='sg-col-inner']/div/div/h2/a"
    element = WebDriverWait(driver, maxTimeOut, ignored_exceptions=[StaleElementReferenceException]).until(EC.presence_of_all_elements_located((By.XPATH, locatorProperties2)))
    i=0
    while(i<len(element)):
        time.sleep(2)
        element[i].click()
        print("clicked",i+1,"link")
        driver.back()
        #element = WebDriverWait(driver, maxTimeOut, ignored_exceptions=[StaleElementReferenceException]).until(EC.presence_of_all_elements_located((By.XPATH, locatorProperties2)))
        time.sleep(2)
        element = driver.find_elements_by_xpath(locatorProperties2)
        i+=1    
